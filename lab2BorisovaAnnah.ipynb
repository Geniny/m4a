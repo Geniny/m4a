{
 "cells": [
  {
   "cell_type": "markdown",
   "metadata": {},
   "source": [
    " ## Лабораторная работа 2"
   ]
  },
  {
   "cell_type": "markdown",
   "metadata": {},
   "source": [
    "# Вариационные методы решения краевых задач."
   ]
  },
  {
   "cell_type": "markdown",
   "metadata": {},
   "source": [
    "## Задание:\n",
    "\n",
    "### Методами коллокаций, интегральным и дискретным методами наименьших квадратов и Галеркина получить численное решение краевой задачи:\n",
    "\n",
    "### 1. $y'' + (1 + x^2) \\cdot y = -1, $  \n",
    "\n",
    "  $-1 \\leq x \\leq 1$\n",
    "  \n",
    "  \n",
    "### 2. $a\\cdot y'' + (1 + b\\cdot x^2)\\cdot y = -1,$\n",
    "\n",
    "   $-1 \\leq x \\leq 1$,\n",
    "   \n",
    "   где $a = sin(k), b = cos(k)$.\n",
    "\n",
    "\n",
    "### Краевые условия для обеих задач:\n",
    "\n",
    "$y(-1) = 0$\n",
    "\n",
    "$y(1) = 0$"
   ]
  },
  {
   "cell_type": "markdown",
   "metadata": {},
   "source": [
    "### 1. Решение краевых задач вариационными методами."
   ]
  },
  {
   "cell_type": "markdown",
   "metadata": {},
   "source": [
    "Приближенное решение краевой задачи можно получить в виде линейной комбинации базисных функций:\n",
    "\n",
    "$y_n(x) = a_0 \\cdot \\varphi_0(x) + a_1\\cdot \\varphi_1(x) + ... + a_n \\cdot \\varphi_n(x)$"
   ]
  },
  {
   "cell_type": "markdown",
   "metadata": {},
   "source": [
    "В нашем случае базисная функция имеет следующий вид:\n",
    "\n",
    "$\\varphi_i(x) = x^i \\cdot (1 - x^2)$"
   ]
  },
  {
   "cell_type": "markdown",
   "metadata": {},
   "source": [
    "Таким образом, для нахождения решения необходимо найти коэффициенты $a$ такие, чтобы функция $y_n(x)$ удовлетворяла граничному условию и была максимально близко к точному решению, для чего используется невязка функции.\n",
    "\n",
    "Невязка функции имеет следующий вид:\n",
    "\n",
    "$\\psi(x, a_1, ..., a_n) = y''_n(x) + p(x)  \\cdot y'_n(x) + q(x) \\cdot y_n(x) - f(x) $\n",
    "\n",
    "Очевидно, она должна быть минимальной для максимального приближения к точному решению краевой задачи."
   ]
  },
  {
   "cell_type": "markdown",
   "metadata": {},
   "source": [
    "Представим $y_n(x), y'_n(x), y''_n(x)$ как линейные комбинации базисных функций:\n",
    "\n",
    "$y_n(x) = a_0 \\cdot \\varphi_0(x) + a_1\\cdot \\varphi_1(x) + ... + a_n \\cdot \\varphi_n(x) = \\sum_{i=0}^n a_i \\cdot x^i(1 - x^2) = \\sum_{i=0}^n a_i \\cdot (x^i - x^{i+2}) $\n",
    "\n",
    "$y'_n(x) =  \\sum_{i=1}^n a_i \\cdot (i \\cdot x^{i-1} - (i+2) \\cdot x^{i+1}) - 2 \\cdot x \\cdot a_0$\n",
    "\n",
    "$y''_n(x) =  \\sum_{i=2}^n a_i \\cdot (i \\cdot (i-1) \\cdot x^{i-2} - (i+2)\\cdot (i+1) \\cdot x^i) - 2 \\cdot a_0 - 6\\cdot a_1 \\cdot x $"
   ]
  },
  {
   "cell_type": "markdown",
   "metadata": {},
   "source": [
    "Тогда можно выразить невязку следующим образом:\n",
    "\n",
    "$\\psi(x, a_0, ... , a_n) =  \\sum_{i=2}^n a_i \\cdot (i \\cdot (i-1) \\cdot x^{i-2} - (i+2)\\cdot (i+1) \\cdot x^i) - 2 \\cdot a_0 - 6\\cdot a_1 \\cdot x + p(x) \\cdot (\\sum_{i=1}^n a_i \\cdot (i \\cdot x^{i-1} - (i+2) \\cdot x^{i+1}) - 2 \\cdot x \\cdot a_0) + q(x)\\cdot (\\sum_{i=0}^n a_i \\cdot x^i(1 - x^2) = \\sum_{i=0}^n a_i \\cdot (x^i - x^{i+2})) - f(x) =\n",
    "a_0 \\cdot (-2 - p(x) \\cdot 2 \\cdot x + q(x) \\cdot (1 - x^2)) + a_1 \\cdot (-6\\cdot x + p(x)\\cdot (1 - 3\\cdot x^2) + q(x) \\cdot (x - x^3)) + \\sum_{i=2}^n a_i  \\cdot (i\\cdot (i-1)\\cdot x^{i-2} - (i+2)\\cdot (i+1) \\cdot x^i + p(x) \\cdot (i\\cdot x^{i-1} - (i+2)\\cdot (i+2)\\cdot x^{i+1})+ q(x) \\cdot (x^i - x^{i+2})) - f(x) $"
   ]
  },
  {
   "cell_type": "markdown",
   "metadata": {},
   "source": [
    " Следовательно, коэффициенты при $a_i$  можно записать так:\n",
    " $coefficient_i = \\begin{cases} -2 - p(x) \\cdot 2 \\cdot x + q(x) \\cdot (1 - x^2), & \\mbox{if } i = 0  \\\\ -6\\cdot x + p(x)\\cdot (1 - 3\\cdot x^2) + q(x) \\cdot (x - x^3), & \\mbox{if } i = 1 \\\\ i\\cdot (i-1)\\cdot x^{i-2} - (i+2)\\cdot (i+1) \\cdot x^i + p(x) \\cdot (i\\cdot x^{i-1} - (i+2)\\cdot (i+2)\\cdot x^{i+1})+ q(x) \\cdot (x^i - x^{i+2}), & \\mbox{if } i \\geq 2\\end{cases}$"
   ]
  },
  {
   "cell_type": "markdown",
   "metadata": {},
   "source": [
    "Это удобно использовать для вычислений при решении краевых задач вариационными методами."
   ]
  },
  {
   "cell_type": "markdown",
   "metadata": {},
   "source": [
    "### 2. Задание граничных условий и параметра k."
   ]
  },
  {
   "cell_type": "code",
   "execution_count": 2,
   "metadata": {},
   "outputs": [],
   "source": [
    "import numpy as np\n",
    "import math\n",
    "import sympy as sp\n",
    "import time"
   ]
  },
  {
   "cell_type": "code",
   "execution_count": 3,
   "metadata": {},
   "outputs": [],
   "source": [
    "a = -1\n",
    "b = 1\n",
    "k = 1"
   ]
  },
  {
   "cell_type": "markdown",
   "metadata": {},
   "source": [
    "### 3. Задание функций p_u, g, u, f, p, $\\varphi$ (параметр task определяет выполняемое задание и определяет функции в соответствии с ним):\n"
   ]
  },
  {
   "cell_type": "code",
   "execution_count": 25,
   "metadata": {},
   "outputs": [],
   "source": [
    "def p_u(x):\n",
    "    return 0\n",
    "\n",
    "\n",
    "def g(x, task):\n",
    "    if task:\n",
    "        return math.sin(k)\n",
    "    else:\n",
    "        return 1\n",
    "\n",
    "\n",
    "def u(x, task):\n",
    "    if task:\n",
    "        return math.cos(k)\n",
    "    else:\n",
    "        return 1\n",
    "\n",
    "\n",
    "def f(x, task):\n",
    "    return -1 / g(x, task)\n",
    "\n",
    "\n",
    "def p(x, task):\n",
    "    return 1 + x * x * u(x, task) / g(x, task)\n",
    "\n",
    "\n",
    "def phi(x, i):\n",
    "    return (1 - x**2) * x**i"
   ]
  },
  {
   "cell_type": "markdown",
   "metadata": {},
   "source": [
    "### 4. Задание функции для определения коэффициента при $a_i$:"
   ]
  },
  {
   "cell_type": "code",
   "execution_count": 35,
   "metadata": {},
   "outputs": [],
   "source": [
    "def coefficient_element(j, x, task):\n",
    "    if j == 0:\n",
    "        return -2 - 2 * x * p_u(x) + (1 - x ** 2) * p(x, task)\n",
    "    elif j == 1:\n",
    "        return -6 * x + (1 - 3 * x ** 2) * p_u(x) + (x - x ** 3) * p(x, task)\n",
    "    else:\n",
    "        return j * (j - 1) * x ** (j - 2) - (j + 1) * (j + 2) * x ** j + \\\n",
    "                     (j * x ** (j - 1) - (j + 2) * x ** (j + 1)) * p_u(x) \\\n",
    "                     + (x ** j - x ** (j + 2)) * p(x, task)"
   ]
  },
  {
   "cell_type": "markdown",
   "metadata": {},
   "source": [
    "### 5. Задание функции для нахождения значений $a_i$ посредством решения системы и последующего вычисления  $y$ и рисования графика:"
   ]
  },
  {
   "cell_type": "code",
   "execution_count": 11,
   "metadata": {},
   "outputs": [],
   "source": [
    "def find_n_show_solution(C, F):\n",
    "    C = np.array(C)\n",
    "    F = np.array(F)\n",
    "    solution = np.linalg.solve(C, F)\n",
    "    x = sp.symbols('x')\n",
    "    y = sum(solution[i] * (x ** i * (1 - x ** 2)) for i in range(n))\n",
    "    print(\"Ymax = \", y.subs({x: 0}))\n",
    "    sp.plotting.plot(y, (x, a, b))"
   ]
  },
  {
   "cell_type": "markdown",
   "metadata": {},
   "source": [
    "## 1. Метод коллокаций"
   ]
  },
  {
   "cell_type": "markdown",
   "metadata": {},
   "source": [
    "#### В рамках метода коллокаций выполняются следующие действия:\n",
    "1. На отрезке $[a, b]$ выбираются точки $x_1, x_2, ... , x_m \\in [a, b]$,  $(m \\geq n)$ - точки коллокации. \n",
    "2. Точки последовательно подставляются в невязку, и, считая, что невязка должна быть нулю в точках коллокации, получаем систему уравнений для определения коэффициентов $a_1, ... , a_n$:\n",
    "\n",
    "    $\\begin{cases} \\psi(x_1, a_0, ... , a_n) = 0 \\\\ .....\\\\ \\psi(x_n, a_0, ... , a_n) = 0\\end{cases}$\n",
    "    \n",
    "    При этом в первом пункте было показано, что:\n",
    "    \n",
    "    $\\psi(x, a_0, ... , a_n) =\n",
    "a_0 \\cdot (-2 - p(x) \\cdot 2 \\cdot x + q(x) \\cdot (1 - x^2)) + a_1 \\cdot (-6\\cdot x + p(x)\\cdot (1 - 3\\cdot x^2) + q(x) \\cdot (x - x^3)) + \\sum_{i=2}^n a_i  \\cdot (i\\cdot (i-1)\\cdot x^{i-2} - (i+2)\\cdot (i+1) \\cdot x^i + p(x) \\cdot (i\\cdot x^{i-1} - (i+2)\\cdot (i+2)\\cdot x^{i+1})+ q(x) \\cdot (x^i - x^{i+2})) - f(x) $\n",
    "\n",
    "\n",
    "    Тогда система принимает вид: \n",
    "    \n",
    "   $\\begin{cases}\\ a_0 \\cdot (-2 - p(x_1) \\cdot 2 \\cdot x_1 + q(x_1) \\cdot (1 - x_1^2)) + a_1 \\cdot (-6\\cdot x_1 + p(x_1)\\cdot (1 - 3\\cdot x_1^2) + q(x_1) \\cdot (x_1 - x_1^3)) + \\sum_{i=2}^n a_i  \\cdot (i\\cdot (i-1)\\cdot x_1^{i-2} - (i+2)\\cdot (i+1) \\cdot x_1^i + p(x_1) \\cdot (i\\cdot x_1^{i-1} - (i+2)\\cdot (i+2)\\cdot x_1^{i+1})+ q(x_1) \\cdot (x_1^i - x_1^{i+2})) = f(x_1) \\\\ ................................................\\\\ a_0 \\cdot (-2 - p(x_n) \\cdot 2 \\cdot x_n + q(x_n) \\cdot (1 - x_n^2)) + a_1 \\cdot (-6\\cdot x_n + p(x_n)\\cdot (1 - 3\\cdot x_n^2) + q(x_n) \\cdot (x_n - x_n^3)) + \\sum_{i=2}^n a_i  \\cdot (i\\cdot (i-1)\\cdot x_n^{i-2} - (i+2)\\cdot (i+1) \\cdot x_n^i + p(x_n) \\cdot (i\\cdot x_n^{i-1} - (i+2)\\cdot (i+2)\\cdot x_n^{i+1})+ q(x_n) \\cdot (x_n^i - x_n^{i+2})) = f(x_n)\\end{cases}$\n",
    " \n",
    " \n",
    "  $\\begin{cases}\\ \\sum_{k=0}^n coefficient_k(x_1)\\cdot a_k = f(x_1) \\\\ .....................................\\\\ \\sum_{k=0}^n coefficient_k(x_n)\\cdot a_k = f(x_n)\\end{cases}$\n",
    "\n",
    "   Учитывая это, понятно, что в точке х при $a_i$ будет коэффициент $coefficient_𝑗(𝑥_𝑖)$, а компонента вектора свободных членов - $𝑓(𝑥_𝑖)$.\n",
    "3. Находим решение полученной системы уравнений, что позволяет найти и y."
   ]
  },
  {
   "cell_type": "code",
   "execution_count": 34,
   "metadata": {},
   "outputs": [],
   "source": [
    "n = 100          # количество точек коллокации"
   ]
  },
  {
   "cell_type": "code",
   "execution_count": 13,
   "metadata": {},
   "outputs": [],
   "source": [
    "def collocation_method(task=False):\n",
    "    X = np.array([i*(b-a)/(n-1) + a for i in range(n)])\n",
    "    f_x = [f(x, task) for x in X]\n",
    "    coef = [[0] * n for _ in range(n)]\n",
    "    for i in range(n):\n",
    "        for j in range(n):\n",
    "            coef[i][j] = coefficient_element(j, X[i], task)\n",
    "    find_n_show_solution(coef, f_x)"
   ]
  },
  {
   "cell_type": "markdown",
   "metadata": {},
   "source": [
    "### Задание 1."
   ]
  },
  {
   "cell_type": "code",
   "execution_count": 14,
   "metadata": {},
   "outputs": [
    {
     "name": "stdout",
     "output_type": "stream",
     "text": [
      "Ymax =  0.932053718324819\n"
     ]
    },
    {
     "data": {
      "image/png": "[encoded data removed]",
      "text/plain": [
       "<Figure size 432x288 with 1 Axes>"
      ]
     },
     "metadata": {
      "needs_background": "light"
     },
     "output_type": "display_data"
    }
   ],
   "source": [
    "collocation_method()"
   ]
  },
  {
   "cell_type": "markdown",
   "metadata": {},
   "source": [
    "### Задание 2."
   ]
  },
  {
   "cell_type": "code",
   "execution_count": 15,
   "metadata": {},
   "outputs": [
    {
     "name": "stdout",
     "output_type": "stream",
     "text": [
      "Ymax =  1.07078487764158\n"
     ]
    },
    {
     "data": {
      "image/png": "[encoded data removed]",
      "text/plain": [
       "<Figure size 432x288 with 1 Axes>"
      ]
     },
     "metadata": {
      "needs_background": "light"
     },
     "output_type": "display_data"
    }
   ],
   "source": [
    "collocation_method(True)"
   ]
  },
  {
   "cell_type": "markdown",
   "metadata": {},
   "source": [
    "## 2. Метод наименьших квадратов (интегральный)"
   ]
  },
  {
   "cell_type": "markdown",
   "metadata": {},
   "source": [
    "Приближенное решение также строится по базисной системе. \n",
    "\n",
    "Для нахождения коэффициентов при базисных функций минимизируется интеграл от квадрата невязки:\n",
    "\n",
    "$I = \\int_{a}^{b} \\psi^2(x, a_0, a_1, ... , a_n) dx$\n",
    "\n",
    "Для нахождения минимума интеграла вычисляются первые производные интеграла по параметрам и приравниваются нулю, в результате чего получается система следующего вида, в результате решения которой будут получены значения коэффициентов: \n",
    "\n",
    " $\\begin{cases} \\dfrac {\\partial I}{\\partial a_1} = 2 \\cdot \\int_{a}^{b} \\psi(x, a_0, ..., a_n) \\cdot \\dfrac {\\partial \\psi(x, a_0, ..., a_n)}{\\partial a_1} \\\\ ..........  \\\\ \\dfrac {\\partial I}{\\partial a_n} = 2 \\cdot \\int_{a}^{b} \\psi(x, a_0, ..., a_n) \\cdot \\dfrac {\\partial \\psi(x, a_0, ..., a_n)}{\\partial a_n}\\end{cases}$\n",
    " \n",
    "Для того, чтобы интеграл был минимальным, для всех $i = 0, ..., n$ выполняется равенство:\n",
    "\n",
    "$\\dfrac {\\partial I}{\\partial a_i} = 0$\n",
    "\n",
    "Можно заметить, что $\\dfrac {\\partial \\psi(x, a_0, ..., a_n)}{\\partial a_i} = coefficient_i(x)$ (в соответствии с формулами, выведенными в пункте 1).\n",
    "\n",
    "Распишем уравнение системы для некоторого $a_i$, то есть рассмотрим i-ю строку системы:\n",
    "\n",
    "$2 \\cdot \\int_{a}^{b} \\psi(x, a_0, ..., a_n) \\cdot \\dfrac {\\partial \\psi(x, a_0, ..., a_n)}{\\partial a_i} = 0$\n",
    "\n",
    "$\\int_{a}^{b} \\psi(x, a_0, ..., a_n) \\cdot coefficient_i(x) = 0$\n",
    "\n",
    "$\\int_{a}^{b} (\\sum_{k=0}^n coefficient_k(x)\\cdot a_k - 𝑓(𝑥))\\cdot coefficient_i(x) = 0$\n",
    "\n",
    "$\\sum_{k=0}^n a_k\\cdot \\int_{a}^{b} coefficient_i(x)\\cdot coefficient_k(x) = \\int_{a}^{b}  𝑓(𝑥)\\cdot coefficient_i(x)$\n",
    " \n",
    "Учитывая это, понятно, что в уравнении i данной системы при $a_k$ будет стоять коэффициент $\\int_{a}^{b} coefficient_i(𝑥)\\cdot coefficient_k(𝑥) dx$, а компонента вектора свободных членов - $\\int_{a}^{b} 𝑓(𝑥)\\cdot coefficient_i(𝑥) dx$."
   ]
  },
  {
   "cell_type": "markdown",
   "metadata": {},
   "source": [
    "Определим функции для получения коэффициента при $a_j$ и соответствующей компоненты вектора свободных членов (до интегрирования):"
   ]
  },
  {
   "cell_type": "code",
   "execution_count": 32,
   "metadata": {},
   "outputs": [],
   "source": [
    "def f_iLSN(x, i, task):\n",
    "    return f(x, task) * coefficient_element(i, x, task)\n",
    "\n",
    "\n",
    "def coefficient_iLSN(x, i, j, task):\n",
    "    return coefficient_element(i, x, task) * coefficient_element(j, x, task)"
   ]
  },
  {
   "cell_type": "markdown",
   "metadata": {},
   "source": [
    "Для вычисления определенного интеграла используем метод прямоугольников: разобьем $[a, b]$ на равные отрезки в количестве integral_dimension и найдем площади прямоугольников, одна из сторон которых лежит на оси Ох, а противоположная – пересекает график подынтегральной функции, что поможет получить приближенное значение определенного интеграла."
   ]
  },
  {
   "cell_type": "code",
   "execution_count": 33,
   "metadata": {},
   "outputs": [],
   "source": [
    "def least_squares_method_integral(task=False):\n",
    "    integral_dimension = 100\n",
    "    x = np.linspace(a, b, integral_dimension)\n",
    "    coef = [[0] * n for _ in range(n)]\n",
    "    f_x = [0 for _ in range(n)]\n",
    "    for i in range(n):\n",
    "        f_x[i] = np.sum(f_iLSN(x, i, task)) * (b - a) / integral_dimension\n",
    "        for j in range(n):\n",
    "            coef[i][j] = np.sum(coefficient_iLSN(x, i, j, task)) * (b - a) / integral_dimension\n",
    "    find_n_show_solution(coef, f_x)"
   ]
  },
  {
   "cell_type": "markdown",
   "metadata": {},
   "source": [
    "### Задание 1."
   ]
  },
  {
   "cell_type": "code",
   "execution_count": 17,
   "metadata": {},
   "outputs": [
    {
     "name": "stdout",
     "output_type": "stream",
     "text": [
      "Ymax =  0.932053714922982\n"
     ]
    },
    {
     "data": {
      "image/png": "[encoded data removed]",
      "text/plain": [
       "<Figure size 432x288 with 1 Axes>"
      ]
     },
     "metadata": {
      "needs_background": "light"
     },
     "output_type": "display_data"
    }
   ],
   "source": [
    "least_squares_method_integral()"
   ]
  },
  {
   "cell_type": "markdown",
   "metadata": {},
   "source": [
    "### Задание 2."
   ]
  },
  {
   "cell_type": "code",
   "execution_count": 18,
   "metadata": {},
   "outputs": [
    {
     "name": "stdout",
     "output_type": "stream",
     "text": [
      "Ymax =  1.07078487072341\n"
     ]
    },
    {
     "data": {
      "image/png": "[encoded data removed]",
      "text/plain": [
       "<Figure size 432x288 with 1 Axes>"
      ]
     },
     "metadata": {
      "needs_background": "light"
     },
     "output_type": "display_data"
    }
   ],
   "source": [
    "least_squares_method_integral(True)"
   ]
  },
  {
   "cell_type": "markdown",
   "metadata": {},
   "source": [
    "## 3. Метод наименьших квадратов (дискретный)"
   ]
  },
  {
   "cell_type": "markdown",
   "metadata": {},
   "source": [
    "Выбирается m > n точек и решается следующая задача: \n",
    "\n",
    "$S = \\sum_{i=1}^m \\psi^2(x_i, a_1, ..., a_n) \\to min$.\n",
    "\n",
    "Для этого строится система:\n",
    "\n",
    "$\\begin{cases} \\dfrac {\\partial S}{\\partial a_1} = 0 \\\\..... \\\\ \\dfrac {\\partial S}{\\partial a_n} = 0\\end{cases}$\n",
    "\n",
    "Если подставить в систему $S = \\sum_{i=1}^m \\psi^2(x_i, a_1, ..., a_n)$, получаем:\n",
    "\n",
    "$\\begin{cases} \\dfrac {\\partial \\sum_{i=1}^m \\psi^2(x_i, a_1, ..., a_n)}{\\partial a_1} = 0 \\\\..... \\\\ \\dfrac {\\partial \\sum_{i=1}^m \\psi^2(x_i, a_1, ..., a_n)}{\\partial a_n} = 0\\end{cases}$\n",
    "\n",
    "$\\begin{cases} 2 \\cdot \\sum_{i=1}^m  \\psi(x_i, a_1, ..., a_n) \\cdot \\dfrac {\\partial \\psi(x_i, a_1, ..., a_n)}{\\partial a_1} = 0 \\\\..... \\\\ 2 \\cdot \\sum_{i=1}^m \\psi(x_i, a_1, ..., a_n) \\cdot \\dfrac {\\partial \\psi(x_i, a_1, ..., a_n)}{\\partial a_n} = 0\\end{cases}$\n",
    "\n",
    "И вновь можно заметить, что $\\dfrac {\\partial \\psi(x, a_0, ..., a_n)}{\\partial a_i} = coefficient_i(x)$ (в соответствии с формулами, выведенными в пункте 1).\n",
    "\n",
    "Учитывая полученное в первом пункте выражение для $\\psi(x_i, a_1, ..., a_n)$:\n",
    "\n",
    "$\\begin{cases} \\sum_{i=1}^m  (\\sum_{k=0}^n coefficient_k(x)\\cdot a_k - 𝑓(𝑥)) \\cdot coefficient_1(x) = 0 \\\\..... \\\\  \\sum_{i=1}^m (\\sum_{k=0}^n coefficient_k(x)\\cdot a_k - 𝑓(𝑥)) \\cdot coefficient_n(x) = 0\\end{cases}$\n",
    "\n",
    "$\\begin{cases} \\sum_{k=0}^n a_k \\sum_{i=1}^m coefficient_k(x)\\cdot coefficient_1(x) = \\sum_{i=1}^m 𝑓(𝑥) \\cdot coefficient_1(x) \\\\..... \\\\  \\sum_{k=0}^n a_k \\sum_{i=1}^m  coefficient_k(x)\\cdot coefficient_n(x) = \\sum_{i=1}^m 𝑓(𝑥) \\cdot coefficient_n(x)\\end{cases}$\n",
    "\n",
    "Тогда понятно, что в уравнении i данной системы при $a_k$ будет стоять коэффициент $ \\sum_{i=1}^m coefficient_i(𝑥)\\cdot coefficient_k(𝑥) dx$, а компонента вектора свободных членов - $ \\sum_{i=1}^m 𝑓(𝑥)\\cdot coefficient_i(𝑥) dx$."
   ]
  },
  {
   "cell_type": "code",
   "execution_count": 20,
   "metadata": {},
   "outputs": [],
   "source": [
    "def least_squares_method_discrete(task=False):\n",
    "    m = 120\n",
    "    x = np.linspace(a, b, m)\n",
    "    coef = [[0] * n for _ in range(n)]\n",
    "    f_x = [0 for _ in range(n)]\n",
    "    for i in range(n):\n",
    "        f_x[i] = np.sum([f_iLSN(x, i, task)])\n",
    "        for j in range(n):\n",
    "            coef[i][j] = np.sum(coefficient_iLSN(x, i, j, task))\n",
    "    find_n_show_solution(coef, f_x)"
   ]
  },
  {
   "cell_type": "markdown",
   "metadata": {},
   "source": [
    "### Задание 1."
   ]
  },
  {
   "cell_type": "code",
   "execution_count": 21,
   "metadata": {},
   "outputs": [
    {
     "name": "stdout",
     "output_type": "stream",
     "text": [
      "Ymax =  0.932053718656111\n"
     ]
    },
    {
     "data": {
      "image/png": "[encoded data removed]",
      "text/plain": [
       "<Figure size 432x288 with 1 Axes>"
      ]
     },
     "metadata": {
      "needs_background": "light"
     },
     "output_type": "display_data"
    }
   ],
   "source": [
    "least_squares_method_discrete()"
   ]
  },
  {
   "cell_type": "markdown",
   "metadata": {},
   "source": [
    "### Задание 2."
   ]
  },
  {
   "cell_type": "code",
   "execution_count": 22,
   "metadata": {},
   "outputs": [
    {
     "name": "stdout",
     "output_type": "stream",
     "text": [
      "Ymax =  1.07078487527720\n"
     ]
    },
    {
     "data": {
      "image/png": "[encoded data removed]",
      "text/plain": [
       "<Figure size 432x288 with 1 Axes>"
      ]
     },
     "metadata": {
      "needs_background": "light"
     },
     "output_type": "display_data"
    }
   ],
   "source": [
    "least_squares_method_discrete(True)"
   ]
  },
  {
   "cell_type": "markdown",
   "metadata": {},
   "source": [
    "## 4. Метод Галеркина"
   ]
  },
  {
   "cell_type": "markdown",
   "metadata": {},
   "source": [
    "При рассмотрении невязки $\\psi(x, a_1, ..., a_n)$ строится система для определения коэффициентов при базисных функциях:\n",
    "\n",
    "$\\begin{cases} \\int_{a}^{b} \\psi(x, a_0, ..., a_n) \\cdot \\varphi_1(x) dx = 0  \\\\ ..........  \\\\ \\int_{a}^{b} \\psi(x, a_0, ..., a_n) \\cdot \\varphi_n(x) dx = 0 \\end{cases}$\n",
    "\n",
    "\n",
    "Учитывая полученное в первом пункте выражение для $\\psi(x_i, a_1, ..., a_n)$:\n",
    "\n",
    "$\\begin{cases} \\int_{a}^{b} (\\sum_{k=0}^n coefficient_k(x)\\cdot a_k - 𝑓(𝑥)) \\cdot \\varphi_1(x) dx = 0  \\\\ ..........  \\\\ \\int_{a}^{b} (\\sum_{k=0}^n coefficient_k(x)\\cdot a_k - 𝑓(𝑥)) \\cdot \\varphi_n(x) dx = 0 \\end{cases}$\n",
    "\n",
    "$\\begin{cases} \\sum_{k=0}^n  a_k \\int_{a}^{b} coefficient_k(x)\\cdot \\varphi_1(x) dx = \\int_{a}^{b} 𝑓(𝑥) dx \\cdot \\varphi_1(x)  \\\\ ..........  \\\\ \\sum_{k=0}^n  a_k \\int_{a}^{b} coefficient_k(x)\\cdot \\varphi_n(x) dx = \\int_{a}^{b}𝑓(𝑥) \\cdot \\varphi_n(x) dx \\end{cases}$\n",
    "\n",
    "Тогда в i-й строке при $a_k$ будет коэффициент $\\int_{a}^{b} coefficient_k(x)\\cdot \\varphi_i(x) dx$, а компонента свободных членов будет равна $\\int_{a}^{b}𝑓(𝑥) \\cdot \\varphi_i(x) dx$."
   ]
  },
  {
   "cell_type": "markdown",
   "metadata": {},
   "source": [
    "Определим функции для получения коэффициента при $a_j$ и соответствующей компоненты вектора свободных членов (до интегрирования):"
   ]
  },
  {
   "cell_type": "code",
   "execution_count": 23,
   "metadata": {},
   "outputs": [],
   "source": [
    "def f_Galerkin(x, i, task):\n",
    "    return f(x, task) * phi(x, i)\n",
    "\n",
    "\n",
    "def coefficient_Galerkin(x, i, j, task):\n",
    "    return phi(x,i) * coefficient_element(j, x, task)"
   ]
  },
  {
   "cell_type": "markdown",
   "metadata": {},
   "source": [
    "Для вычисления определенного интеграла вновь используется метод прямоугольников."
   ]
  },
  {
   "cell_type": "code",
   "execution_count": null,
   "metadata": {},
   "outputs": [],
   "source": [
    "def Galerkin_method(task=False):\n",
    "    integral_dimension = 100\n",
    "    x = np.linspace(a, b, integral_dimension)\n",
    "    coef = [[0] * n for _ in range(n)]\n",
    "    f_x = [0 for _ in range(n)]\n",
    "    for i in range(n):\n",
    "        f_x[i] = np.sum(f_Galerkin(x, i, task)) * (b - a) / integral_dimension\n",
    "        for j in range(n):\n",
    "            coef[i][j] = np.sum(coefficient_Galerkin(x, i, j, task)) * (b - a) / integral_dimension\n",
    "    find_n_show_solution(coef, f_x)"
   ]
  },
  {
   "cell_type": "markdown",
   "metadata": {},
   "source": [
    "### Задание 1."
   ]
  },
  {
   "cell_type": "code",
   "execution_count": 26,
   "metadata": {},
   "outputs": [
    {
     "name": "stdout",
     "output_type": "stream",
     "text": [
      "Ymax =  0.932043247433748\n"
     ]
    },
    {
     "data": {
      "image/png": "[encoded data removed]",
      "text/plain": [
       "<Figure size 432x288 with 1 Axes>"
      ]
     },
     "metadata": {
      "needs_background": "light"
     },
     "output_type": "display_data"
    }
   ],
   "source": [
    "Galerkin_method()"
   ]
  },
  {
   "cell_type": "markdown",
   "metadata": {},
   "source": [
    "### Задание 2."
   ]
  },
  {
   "cell_type": "code",
   "execution_count": 27,
   "metadata": {},
   "outputs": [
    {
     "name": "stdout",
     "output_type": "stream",
     "text": [
      "Ymax =  1.07080747912026\n"
     ]
    },
    {
     "data": {
      "image/png": "[encoded data removed]",
      "text/plain": [
       "<Figure size 432x288 with 1 Axes>"
      ]
     },
     "metadata": {
      "needs_background": "light"
     },
     "output_type": "display_data"
    }
   ],
   "source": [
    "Galerkin_method(True)"
   ]
  },
  {
   "cell_type": "code",
   "execution_count": null,
   "metadata": {},
   "outputs": [],
   "source": []
  }
 ],
 "metadata": {
  "kernelspec": {
   "display_name": "Python 3",
   "language": "python",
   "name": "python3"
  },
  "language_info": {
   "codemirror_mode": {
    "name": "ipython",
    "version": 3
   },
   "file_extension": ".py",
   "mimetype": "text/x-python",
   "name": "python",
   "nbconvert_exporter": "python",
   "pygments_lexer": "ipython3",
   "version": "3.6.8"
  }
 },
 "nbformat": 4,
 "nbformat_minor": 2
}
