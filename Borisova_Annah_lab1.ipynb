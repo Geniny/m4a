{
 "cells": [
  {
   "cell_type": "markdown",
   "metadata": {},
   "source": [
    " ## Лабораторная работа"
   ]
  },
  {
   "cell_type": "markdown",
   "metadata": {},
   "source": [
    "# Решение краевых задач методом разностных аппроксимаций"
   ]
  },
  {
   "cell_type": "code",
   "execution_count": 1,
   "metadata": {},
   "outputs": [],
   "source": [
    "import numpy as np\n",
    "import matplotlib.pyplot as plt\n",
    "import math"
   ]
  },
  {
   "cell_type": "markdown",
   "metadata": {},
   "source": [
    "### 1. *Задаем значения граничных условий, параметра k, точности $\\epsilon$, количества отрезков n, на которое разбиваем ось x:*"
   ]
  },
  {
   "cell_type": "code",
   "execution_count": 2,
   "metadata": {},
   "outputs": [],
   "source": [
    "k = 1\n",
    "n = 5000\n",
    "eps = 0.001\n",
    "a = -1 + eps\n",
    "b = 1 + eps\n",
    "ya = 0\n",
    "yb = 0"
   ]
  },
  {
   "cell_type": "markdown",
   "metadata": {},
   "source": [
    "### 2. *Задаем функции g, u, f, p (параметры power и task определяют выполняемое задание и определяют функции в соответствии с ним)*:"
   ]
  },
  {
   "cell_type": "code",
   "execution_count": 3,
   "metadata": {},
   "outputs": [],
   "source": [
    "def g(x, power, task):\n",
    "    if task:\n",
    "        if math.sin(k * x ** power) == 0:\n",
    "            return math.sin(k * (x + 0.0001) ** power)\n",
    "        return math.sin(k * x ** power)\n",
    "    else:\n",
    "        return 1\n",
    "\n",
    "\n",
    "def u(x, power, task):\n",
    "    if task:\n",
    "        return math.cos(k * x ** power)\n",
    "    else:\n",
    "        return 1\n",
    "\n",
    "\n",
    "def f(x, power, task):\n",
    "    return -1 / g(x, power, task)\n",
    "\n",
    "\n",
    "def p(x, power, task):\n",
    "    return -(1 + x * x * u(x, power, task)) / g(x, power, task)"
   ]
  },
  {
   "cell_type": "markdown",
   "metadata": {},
   "source": [
    "### 3. *Для решения краевых задач в рамках разрабатываемого алгоритма вводятся следующие функции:*"
   ]
  },
  {
   "cell_type": "markdown",
   "metadata": {},
   "source": [
    "#### 1. *Функция решения системы методом прогонки.*\n",
    "*Для решения системы, получаемой в результате построения конечно-разностных аппроксимаций, можно использовать метод прогонки. Он основан на предположении о том, что все искомые значения связаны реккурентным соотношением: $x_i = \\alpha_{i+1}\\cdot x_{i+1} + \\beta_{i+1}$, где $i = n-1, n-2, ..., 1$.*\n",
    "\n",
    "*Система уравнений представляется в виде $a_i \\cdot x_{i-1} + b_i\\cdot x_i + c_i\\cdot x_{i+1} = d_{i}$.\n",
    "Тогда, выразив $x_{i-1}$ и $x_i$ через $x_{i+1}$ и подставив их в систему, видно, что:*\n",
    "\n",
    "$\\alpha_{i+1} = \\dfrac {-c_i}{a_i \\cdot \\alpha_i + b_i}$\n",
    "\n",
    "$\\beta_{i+1} = \\dfrac {d_i - a_i\\cdot \\beta_i}{a_i \\cdot \\alpha_i + b_i}$\n",
    "\n",
    "*Итак, после нахождения прогоночных коэффициентов получаем решение системы, причем:*\n",
    "\n",
    "$x_i = \\alpha_{i+1}\\cdot x_{i+1} + \\beta_{i+1}$, где $i = n-1, n-2, ..., 1$.\n",
    "\n",
    "$x_n = \\dfrac {d_n - a_n\\cdot \\beta_n}{a_n \\cdot \\alpha_n + b_n}$"
   ]
  },
  {
   "cell_type": "code",
   "execution_count": 4,
   "metadata": {},
   "outputs": [],
   "source": [
    "def solve_system(T, P):\n",
    "    alpha = np.zeros(T.shape[0])\n",
    "    beta = np.zeros(T.shape[0])\n",
    "    X = np.zeros(T.shape[0])\n",
    "    for i in range(T.shape[0]):\n",
    "        a = b = c = 0\n",
    "        if i > 0:\n",
    "            a = T[i][0]\n",
    "        b = T[i][1]\n",
    "        if i + 1 < T.shape[0]:\n",
    "            c = T[i][2]\n",
    "        d = P[i]\n",
    "\n",
    "        gamma = b + a * alpha[i - 1]\n",
    "        alpha[i] = -c / gamma\n",
    "        beta[i] = (d - a * beta[i - 1]) / gamma\n",
    "\n",
    "    X[-1] = beta[-1]\n",
    "    for i in range(T.shape[0] - 2, -1, -1):\n",
    "        X[i] = alpha[i] * X[i + 1] + beta[i]\n",
    "    return X"
   ]
  },
  {
   "cell_type": "markdown",
   "metadata": {},
   "source": [
    "#### 2. *Функция для получения системы, решение которой дает приближенное решение краевой задачи:*"
   ]
  },
  {
   "cell_type": "markdown",
   "metadata": {},
   "source": [
    " *Определим вид получаемой в результате построения конечно-разностных аппроксимаций системы:*\n",
    "\n",
    "$y'' - p(x)\\cdot y = f(x) $\n",
    "\n",
    "$y''_k = \\dfrac{y_{k-1} - 2\\cdot y_k + y_{k+1}}{h^2}$\n",
    "\n",
    "$y_{k-1} - (2 + h^2\\cdot p(x))\\cdot y_k + y_{k+1} = h^2 \\cdot f(x_k), k \\in [1, n-1]$\n",
    "\n",
    "*В соответствии с этим формируем матрицу для полученной системы:*"
   ]
  },
  {
   "cell_type": "code",
   "execution_count": 5,
   "metadata": {},
   "outputs": [],
   "source": [
    "def solve(h, power = 0, task = False):\n",
    "    n = round((b - a) / h)\n",
    "    X = np.arange(a, b + h, h)\n",
    "    H = np.full(n - 1, h ** 2, dtype=np.float)\n",
    "    for i in range(H.shape[0]):\n",
    "        H[i] *= f(X[i + 1], power, task)\n",
    "    H[0] -= ya\n",
    "    H[-1] -= yb\n",
    "\n",
    "    M = np.zeros((n - 1, 3), dtype=np.float)\n",
    "\n",
    "    for i in range(n - 1):\n",
    "        M[i][1] = -(2 + h ** 2 * p(X[i + 1], power, task))\n",
    "        if i - 1 >= 0:\n",
    "            M[i][0] = 1\n",
    "        if i + 1 < n - 1:\n",
    "            M[i][2] = 1\n",
    "\n",
    "    return np.hstack([np.hstack([ya, solve_system(M, H)]), yb]), X"
   ]
  },
  {
   "cell_type": "markdown",
   "metadata": {},
   "source": [
    "#### 3. *Функция для достижения при решении системы заданной точности путем корректирования шага и для вывода графика полученного решения:*"
   ]
  },
  {
   "cell_type": "code",
   "execution_count": 20,
   "metadata": {},
   "outputs": [],
   "source": [
    "def solve_with_defined_accuracy(power = 0, task = False):\n",
    "    h = (b - a) / n\n",
    "    while True:\n",
    "        Y1, X1 = solve(h, power, task)\n",
    "        Y2, X2 = solve(h / 2, power, task)\n",
    "        max_diff = 0\n",
    "        for i in range(Y1.shape[0]):\n",
    "            max_diff = max(abs(Y1[i] - Y2[2 * i]), max_diff)\n",
    "        if max_diff < eps:\n",
    "            break\n",
    "        h /= 2\n",
    "    print(\"h = \", h)\n",
    "    Y, X = solve(h, power, task)\n",
    "    print(\"Ymax = \", max(Y), \"\\nYmin = \", min(Y))\n",
    "    plt.plot(X, Y, color='red')\n",
    "    plt.grid(True)\n",
    "    plt.show()"
   ]
  },
  {
   "cell_type": "code",
   "execution_count": 21,
   "metadata": {},
   "outputs": [],
   "source": [
    "np.set_printoptions(formatter={'float': '{: 0.3f}'.format}) # задаем формат вывода значений"
   ]
  },
  {
   "cell_type": "markdown",
   "metadata": {},
   "source": [
    "# *Задание 1.*\n",
    "    y'' + (1 + x²)y = -1,\n",
    "    -1 ≤ x ≤ 1\n",
    "    y(-1) = 0,\n",
    "    y(1) = 0"
   ]
  },
  {
   "cell_type": "code",
   "execution_count": 22,
   "metadata": {},
   "outputs": [
    {
     "name": "stdout",
     "output_type": "stream",
     "text": [
      "h =  0.004\n",
      "Ymax =  0.9320569364498029 \n",
      "Ymin =  0.0\n"
     ]
    },
    {
     "data": {
      "image/png": "[encoded data removed]",
      "text/plain": [
       "<Figure size 432x288 with 1 Axes>"
      ]
     },
     "metadata": {
      "needs_background": "light"
     },
     "output_type": "display_data"
    }
   ],
   "source": [
    "solve_with_defined_accuracy()"
   ]
  },
  {
   "cell_type": "markdown",
   "metadata": {},
   "source": [
    "# *Задание 2.*\n",
    "    ay'' + (1 + bx²)y = -1,\n",
    "    -1 ≤ x ≤ 1\n",
    "    y(-1) = 0,\n",
    "    y(1) = 0,\n",
    "    k = 1, a = sin(k), b = cos(k)"
   ]
  },
  {
   "cell_type": "code",
   "execution_count": 23,
   "metadata": {},
   "outputs": [
    {
     "name": "stdout",
     "output_type": "stream",
     "text": [
      "h =  0.004\n",
      "Ymax =  1.242613439703166 \n",
      "Ymin =  0.0\n"
     ]
    },
    {
     "data": {
      "image/png": "[encoded data removed]",
      "text/plain": [
       "<Figure size 432x288 with 1 Axes>"
      ]
     },
     "metadata": {
      "needs_background": "light"
     },
     "output_type": "display_data"
    }
   ],
   "source": [
    "solve_with_defined_accuracy(0, True)"
   ]
  },
  {
   "cell_type": "markdown",
   "metadata": {},
   "source": [
    "# *Задание 3.*\n",
    "    ay'' + (1 + bx²)y = -1,\n",
    "    -1 ≤ x ≤ 1\n",
    "    y(-1) = 0,\n",
    "    y(1) = 0,\n",
    "    k = 1, a = sin(kx), b = cos(kx)"
   ]
  },
  {
   "cell_type": "code",
   "execution_count": 24,
   "metadata": {},
   "outputs": [
    {
     "name": "stdout",
     "output_type": "stream",
     "text": [
      "h =  0.001\n",
      "Ymax =  0.0 \n",
      "Ymin =  -1.000000000002093\n"
     ]
    },
    {
     "data": {
      "image/png": "[encoded data removed]",
      "text/plain": [
       "<Figure size 432x288 with 1 Axes>"
      ]
     },
     "metadata": {
      "needs_background": "light"
     },
     "output_type": "display_data"
    }
   ],
   "source": [
    "solve_with_defined_accuracy(1, True)"
   ]
  },
  {
   "cell_type": "markdown",
   "metadata": {},
   "source": [
    "## *Исследование сходимости для заданий 1 и 2:*"
   ]
  },
  {
   "cell_type": "markdown",
   "metadata": {},
   "source": [
    "### *Задание 1:*"
   ]
  },
  {
   "cell_type": "code",
   "execution_count": 11,
   "metadata": {},
   "outputs": [
    {
     "data": {
      "image/png": "[encoded data removed]",
      "text/plain": [
       "<Figure size 432x288 with 1 Axes>"
      ]
     },
     "metadata": {
      "needs_background": "light"
     },
     "output_type": "display_data"
    }
   ],
   "source": [
    "n_list = [10, 50, 100, 500]\n",
    "for n in n_list:\n",
    "    Y, X = solve((b - a) / n, 0, False)\n",
    "    plt.plot(X, Y)\n",
    "plt.show()"
   ]
  },
  {
   "cell_type": "markdown",
   "metadata": {},
   "source": [
    "### *Задание 2:*"
   ]
  },
  {
   "cell_type": "code",
   "execution_count": 12,
   "metadata": {},
   "outputs": [
    {
     "data": {
      "image/png": "[encoded data removed]",
      "text/plain": [
       "<Figure size 432x288 with 1 Axes>"
      ]
     },
     "metadata": {
      "needs_background": "light"
     },
     "output_type": "display_data"
    }
   ],
   "source": [
    "n_list = [10, 50, 100, 500]\n",
    "for n in n_list:\n",
    "    Y, X = solve((b - a) / n, 0, True)\n",
    "    plt.plot(X, Y)\n",
    "plt.show()"
   ]
  }
 ],
 "metadata": {
  "kernelspec": {
   "display_name": "Python 3",
   "language": "python",
   "name": "python3"
  },
  "language_info": {
   "codemirror_mode": {
    "name": "ipython",
    "version": 3
   },
   "file_extension": ".py",
   "mimetype": "text/x-python",
   "name": "python",
   "nbconvert_exporter": "python",
   "pygments_lexer": "ipython3",
   "version": "3.6.8"
  }
 },
 "nbformat": 4,
 "nbformat_minor": 2
}
